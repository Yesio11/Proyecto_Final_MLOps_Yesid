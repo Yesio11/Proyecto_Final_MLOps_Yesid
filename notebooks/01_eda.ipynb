{
 "cells": [
  {
   "cell_type": "markdown",
   "id": "b5180ba2",
   "metadata": {},
   "source": [
    "Carga y Preparación del Dataset\n"
   ]
  },
  {
   "cell_type": "code",
   "execution_count": 1,
   "id": "69e09f59",
   "metadata": {},
   "outputs": [
    {
     "name": "stdout",
     "output_type": "stream",
     "text": [
      "  estado_cuenta_actual  duracion_credito_meses historial_credito  \\\n",
      "0                  A11                       6               A34   \n",
      "1                  A12                      48               A32   \n",
      "2                  A14                      12               A34   \n",
      "3                  A11                      42               A32   \n",
      "4                  A11                      24               A33   \n",
      "\n",
      "  proposito_credito  monto_credito ahorros_o_bonos tiempo_empleo  \\\n",
      "0               A43           1169             A65           A75   \n",
      "1               A43           5951             A61           A73   \n",
      "2               A46           2096             A61           A74   \n",
      "3               A42           7882             A61           A74   \n",
      "4               A40           4870             A61           A73   \n",
      "\n",
      "   tasa_de_cuotas estado_civil_y_sexo otros_deudores_o_garantes  ...  \\\n",
      "0               4                 A93                      A101  ...   \n",
      "1               2                 A92                      A101  ...   \n",
      "2               2                 A93                      A101  ...   \n",
      "3               2                 A93                      A103  ...   \n",
      "4               3                 A93                      A101  ...   \n",
      "\n",
      "   propiedad edad  otros_planes_cuotas vivienda numero_creditos_existentes  \\\n",
      "0       A121   67                 A143     A152                          2   \n",
      "1       A121   22                 A143     A152                          1   \n",
      "2       A121   49                 A143     A152                          1   \n",
      "3       A122   45                 A143     A153                          1   \n",
      "4       A124   53                 A143     A153                          2   \n",
      "\n",
      "   trabajo numero_personas_dependientes  telefono trabajador_extranjero clase  \n",
      "0     A173                            1      A192                  A201     1  \n",
      "1     A173                            1      A191                  A201     2  \n",
      "2     A172                            2      A191                  A201     1  \n",
      "3     A173                            2      A191                  A201     1  \n",
      "4     A173                            2      A191                  A201     2  \n",
      "\n",
      "[5 rows x 21 columns]\n"
     ]
    }
   ],
   "source": [
    "import pandas as pd\n",
    "\n",
    "# Define la ruta del archivo.\n",
    "file_path = r'C:\\Users\\USER\\Documents\\repositorios\\Proyecto_Final_MLOps_Yesid\\data\\raw\\statlog+german+credit+data\\german.data'\n",
    "\n",
    "# Lista de los nombres de las columnas en el orden correcto\n",
    "column_names = [\n",
    "    'estado_cuenta_actual', 'duracion_credito_meses', 'historial_credito',\n",
    "    'proposito_credito', 'monto_credito', 'ahorros_o_bonos',\n",
    "    'tiempo_empleo', 'tasa_de_cuotas', 'estado_civil_y_sexo',\n",
    "    'otros_deudores_o_garantes', 'tiempo_residencia_actual', 'propiedad',\n",
    "    'edad', 'otros_planes_cuotas', 'vivienda', 'numero_creditos_existentes',\n",
    "    'trabajo', 'numero_personas_dependientes', 'telefono',\n",
    "    'trabajador_extranjero', 'clase'\n",
    "]\n",
    "\n",
    "df = pd.read_csv(file_path, sep=' ', header=None)\n",
    "\n",
    "df.columns = column_names\n",
    "\n",
    "print(df.head())"
   ]
  },
  {
   "cell_type": "markdown",
   "id": "1f4e086f",
   "metadata": {},
   "source": [
    "Análisis de la Variable Objetivo"
   ]
  },
  {
   "cell_type": "code",
   "execution_count": 2,
   "id": "21eea746",
   "metadata": {},
   "outputs": [
    {
     "name": "stdout",
     "output_type": "stream",
     "text": [
      "<class 'pandas.core.frame.DataFrame'>\n",
      "RangeIndex: 1000 entries, 0 to 999\n",
      "Data columns (total 21 columns):\n",
      " #   Column                        Non-Null Count  Dtype \n",
      "---  ------                        --------------  ----- \n",
      " 0   estado_cuenta_actual          1000 non-null   object\n",
      " 1   duracion_credito_meses        1000 non-null   int64 \n",
      " 2   historial_credito             1000 non-null   object\n",
      " 3   proposito_credito             1000 non-null   object\n",
      " 4   monto_credito                 1000 non-null   int64 \n",
      " 5   ahorros_o_bonos               1000 non-null   object\n",
      " 6   tiempo_empleo                 1000 non-null   object\n",
      " 7   tasa_de_cuotas                1000 non-null   int64 \n",
      " 8   estado_civil_y_sexo           1000 non-null   object\n",
      " 9   otros_deudores_o_garantes     1000 non-null   object\n",
      " 10  tiempo_residencia_actual      1000 non-null   int64 \n",
      " 11  propiedad                     1000 non-null   object\n",
      " 12  edad                          1000 non-null   int64 \n",
      " 13  otros_planes_cuotas           1000 non-null   object\n",
      " 14  vivienda                      1000 non-null   object\n",
      " 15  numero_creditos_existentes    1000 non-null   int64 \n",
      " 16  trabajo                       1000 non-null   object\n",
      " 17  numero_personas_dependientes  1000 non-null   int64 \n",
      " 18  telefono                      1000 non-null   object\n",
      " 19  trabajador_extranjero         1000 non-null   object\n",
      " 20  clase                         1000 non-null   int64 \n",
      "dtypes: int64(8), object(13)\n",
      "memory usage: 164.2+ KB\n"
     ]
    }
   ],
   "source": [
    "df.info()"
   ]
  },
  {
   "cell_type": "code",
   "execution_count": 3,
   "id": "c5046a76",
   "metadata": {},
   "outputs": [
    {
     "data": {
      "text/html": [
       "<div>\n",
       "<style scoped>\n",
       "    .dataframe tbody tr th:only-of-type {\n",
       "        vertical-align: middle;\n",
       "    }\n",
       "\n",
       "    .dataframe tbody tr th {\n",
       "        vertical-align: top;\n",
       "    }\n",
       "\n",
       "    .dataframe thead th {\n",
       "        text-align: right;\n",
       "    }\n",
       "</style>\n",
       "<table border=\"1\" class=\"dataframe\">\n",
       "  <thead>\n",
       "    <tr style=\"text-align: right;\">\n",
       "      <th></th>\n",
       "      <th>duracion_credito_meses</th>\n",
       "      <th>monto_credito</th>\n",
       "      <th>tasa_de_cuotas</th>\n",
       "      <th>tiempo_residencia_actual</th>\n",
       "      <th>edad</th>\n",
       "      <th>numero_creditos_existentes</th>\n",
       "      <th>numero_personas_dependientes</th>\n",
       "      <th>clase</th>\n",
       "    </tr>\n",
       "  </thead>\n",
       "  <tbody>\n",
       "    <tr>\n",
       "      <th>count</th>\n",
       "      <td>1000.000000</td>\n",
       "      <td>1000.000000</td>\n",
       "      <td>1000.000000</td>\n",
       "      <td>1000.000000</td>\n",
       "      <td>1000.000000</td>\n",
       "      <td>1000.000000</td>\n",
       "      <td>1000.000000</td>\n",
       "      <td>1000.000000</td>\n",
       "    </tr>\n",
       "    <tr>\n",
       "      <th>mean</th>\n",
       "      <td>20.903000</td>\n",
       "      <td>3271.258000</td>\n",
       "      <td>2.973000</td>\n",
       "      <td>2.845000</td>\n",
       "      <td>35.546000</td>\n",
       "      <td>1.407000</td>\n",
       "      <td>1.155000</td>\n",
       "      <td>1.300000</td>\n",
       "    </tr>\n",
       "    <tr>\n",
       "      <th>std</th>\n",
       "      <td>12.058814</td>\n",
       "      <td>2822.736876</td>\n",
       "      <td>1.118715</td>\n",
       "      <td>1.103718</td>\n",
       "      <td>11.375469</td>\n",
       "      <td>0.577654</td>\n",
       "      <td>0.362086</td>\n",
       "      <td>0.458487</td>\n",
       "    </tr>\n",
       "    <tr>\n",
       "      <th>min</th>\n",
       "      <td>4.000000</td>\n",
       "      <td>250.000000</td>\n",
       "      <td>1.000000</td>\n",
       "      <td>1.000000</td>\n",
       "      <td>19.000000</td>\n",
       "      <td>1.000000</td>\n",
       "      <td>1.000000</td>\n",
       "      <td>1.000000</td>\n",
       "    </tr>\n",
       "    <tr>\n",
       "      <th>25%</th>\n",
       "      <td>12.000000</td>\n",
       "      <td>1365.500000</td>\n",
       "      <td>2.000000</td>\n",
       "      <td>2.000000</td>\n",
       "      <td>27.000000</td>\n",
       "      <td>1.000000</td>\n",
       "      <td>1.000000</td>\n",
       "      <td>1.000000</td>\n",
       "    </tr>\n",
       "    <tr>\n",
       "      <th>50%</th>\n",
       "      <td>18.000000</td>\n",
       "      <td>2319.500000</td>\n",
       "      <td>3.000000</td>\n",
       "      <td>3.000000</td>\n",
       "      <td>33.000000</td>\n",
       "      <td>1.000000</td>\n",
       "      <td>1.000000</td>\n",
       "      <td>1.000000</td>\n",
       "    </tr>\n",
       "    <tr>\n",
       "      <th>75%</th>\n",
       "      <td>24.000000</td>\n",
       "      <td>3972.250000</td>\n",
       "      <td>4.000000</td>\n",
       "      <td>4.000000</td>\n",
       "      <td>42.000000</td>\n",
       "      <td>2.000000</td>\n",
       "      <td>1.000000</td>\n",
       "      <td>2.000000</td>\n",
       "    </tr>\n",
       "    <tr>\n",
       "      <th>max</th>\n",
       "      <td>72.000000</td>\n",
       "      <td>18424.000000</td>\n",
       "      <td>4.000000</td>\n",
       "      <td>4.000000</td>\n",
       "      <td>75.000000</td>\n",
       "      <td>4.000000</td>\n",
       "      <td>2.000000</td>\n",
       "      <td>2.000000</td>\n",
       "    </tr>\n",
       "  </tbody>\n",
       "</table>\n",
       "</div>"
      ],
      "text/plain": [
       "       duracion_credito_meses  monto_credito  tasa_de_cuotas  \\\n",
       "count             1000.000000    1000.000000     1000.000000   \n",
       "mean                20.903000    3271.258000        2.973000   \n",
       "std                 12.058814    2822.736876        1.118715   \n",
       "min                  4.000000     250.000000        1.000000   \n",
       "25%                 12.000000    1365.500000        2.000000   \n",
       "50%                 18.000000    2319.500000        3.000000   \n",
       "75%                 24.000000    3972.250000        4.000000   \n",
       "max                 72.000000   18424.000000        4.000000   \n",
       "\n",
       "       tiempo_residencia_actual         edad  numero_creditos_existentes  \\\n",
       "count               1000.000000  1000.000000                 1000.000000   \n",
       "mean                   2.845000    35.546000                    1.407000   \n",
       "std                    1.103718    11.375469                    0.577654   \n",
       "min                    1.000000    19.000000                    1.000000   \n",
       "25%                    2.000000    27.000000                    1.000000   \n",
       "50%                    3.000000    33.000000                    1.000000   \n",
       "75%                    4.000000    42.000000                    2.000000   \n",
       "max                    4.000000    75.000000                    4.000000   \n",
       "\n",
       "       numero_personas_dependientes        clase  \n",
       "count                   1000.000000  1000.000000  \n",
       "mean                       1.155000     1.300000  \n",
       "std                        0.362086     0.458487  \n",
       "min                        1.000000     1.000000  \n",
       "25%                        1.000000     1.000000  \n",
       "50%                        1.000000     1.000000  \n",
       "75%                        1.000000     2.000000  \n",
       "max                        2.000000     2.000000  "
      ]
     },
     "execution_count": 3,
     "metadata": {},
     "output_type": "execute_result"
    }
   ],
   "source": [
    "df.describe()"
   ]
  },
  {
   "cell_type": "code",
   "execution_count": 4,
   "id": "a17a8cc0",
   "metadata": {},
   "outputs": [
    {
     "data": {
      "text/plain": [
       "proposito_credito\n",
       "A43     280\n",
       "A40     234\n",
       "A42     181\n",
       "A41     103\n",
       "A49      97\n",
       "A46      50\n",
       "A45      22\n",
       "A44      12\n",
       "A410     12\n",
       "A48       9\n",
       "Name: count, dtype: int64"
      ]
     },
     "execution_count": 4,
     "metadata": {},
     "output_type": "execute_result"
    }
   ],
   "source": [
    "df['proposito_credito'].value_counts()"
   ]
  },
  {
   "cell_type": "code",
   "execution_count": 5,
   "id": "89dd6995",
   "metadata": {},
   "outputs": [
    {
     "data": {
      "text/plain": [
       "clase\n",
       "1    700\n",
       "2    300\n",
       "Name: count, dtype: int64"
      ]
     },
     "execution_count": 5,
     "metadata": {},
     "output_type": "execute_result"
    }
   ],
   "source": [
    "df['clase'].value_counts()"
   ]
  },
  {
   "cell_type": "markdown",
   "id": "c6f63c27",
   "metadata": {},
   "source": [
    "Codificación de Variables Categóricas y Balanceo de Datos con SMOTE"
   ]
  },
  {
   "cell_type": "code",
   "execution_count": 6,
   "id": "3f30a38e",
   "metadata": {},
   "outputs": [
    {
     "name": "stdout",
     "output_type": "stream",
     "text": [
      "  estado_cuenta_actual  duracion_credito_meses historial_credito  \\\n",
      "0                  A11                       6               A34   \n",
      "1                  A12                      48               A32   \n",
      "2                  A14                      12               A34   \n",
      "3                  A11                      42               A32   \n",
      "4                  A11                      24               A33   \n",
      "\n",
      "  proposito_credito  monto_credito ahorros_o_bonos tiempo_empleo  \\\n",
      "0               A43           1169             A65           A75   \n",
      "1               A43           5951             A61           A73   \n",
      "2               A46           2096             A61           A74   \n",
      "3               A42           7882             A61           A74   \n",
      "4               A40           4870             A61           A73   \n",
      "\n",
      "   tasa_de_cuotas estado_civil_y_sexo otros_deudores_o_garantes  \\\n",
      "0               4                 A93                      A101   \n",
      "1               2                 A92                      A101   \n",
      "2               2                 A93                      A101   \n",
      "3               2                 A93                      A103   \n",
      "4               3                 A93                      A101   \n",
      "\n",
      "   tiempo_residencia_actual propiedad  edad otros_planes_cuotas vivienda  \\\n",
      "0                         4      A121    67                A143     A152   \n",
      "1                         2      A121    22                A143     A152   \n",
      "2                         3      A121    49                A143     A152   \n",
      "3                         4      A122    45                A143     A153   \n",
      "4                         4      A124    53                A143     A153   \n",
      "\n",
      "   numero_creditos_existentes trabajo  numero_personas_dependientes telefono  \\\n",
      "0                           2    A173                             1     A192   \n",
      "1                           1    A173                             1     A191   \n",
      "2                           1    A172                             2     A191   \n",
      "3                           1    A173                             2     A191   \n",
      "4                           2    A173                             2     A191   \n",
      "\n",
      "  trabajador_extranjero  \n",
      "0                  A201  \n",
      "1                  A201  \n",
      "2                  A201  \n",
      "3                  A201  \n",
      "4                  A201  \n"
     ]
    }
   ],
   "source": [
    "from imblearn.over_sampling import SMOTE\n",
    "from sklearn.model_selection import train_test_split\n",
    "\n",
    "# características (X)  variable objetivo (y)\n",
    "X = df.drop('clase', axis=1)\n",
    "y = df['clase']\n",
    "\n",
    "# Identificar variables categóricas\n",
    "\n",
    "print(X.head())"
   ]
  },
  {
   "cell_type": "code",
   "execution_count": 7,
   "id": "3135ba0f",
   "metadata": {},
   "outputs": [
    {
     "name": "stdout",
     "output_type": "stream",
     "text": [
      "Distribución original de la clase:\n",
      "clase\n",
      "1    700\n",
      "2    300\n",
      "Name: count, dtype: int64\n",
      "\n",
      "Distribución de la clase después de SMOTE:\n",
      "clase\n",
      "1    700\n",
      "2    700\n",
      "Name: count, dtype: int64\n"
     ]
    }
   ],
   "source": [
    "\n",
    "# 1. Separar los datos en características (X) y la variable objetivo (y)\n",
    "X = df.drop(columns=['clase']) # Todas las columnas excepto la clase\n",
    "y = df['clase'] # Solo la columna 'clase'\n",
    "\n",
    "# 2. Identificar y codificar variables categóricas\n",
    "\n",
    "X_encoded = pd.get_dummies(X, drop_first=True)\n",
    "\n",
    "# 3. Aplicar SMOTE para balancear las clases\n",
    "smote = SMOTE(random_state=42)\n",
    "X_res, y_res = smote.fit_resample(X_encoded, y)\n",
    "\n",
    "# 4. Verificar la nueva distribución de la variable objetivo\n",
    "print(\"Distribución original de la clase:\")\n",
    "print(y.value_counts())\n",
    "print(\"\\nDistribución de la clase después de SMOTE:\")\n",
    "print(y_res.value_counts())"
   ]
  },
  {
   "cell_type": "markdown",
   "id": "44ff3865",
   "metadata": {},
   "source": [
    "División del Conjunto de Datos"
   ]
  },
  {
   "cell_type": "code",
   "execution_count": 8,
   "id": "7900f8f1",
   "metadata": {},
   "outputs": [
    {
     "name": "stdout",
     "output_type": "stream",
     "text": [
      "Dimensiones de X_train: (1120, 48)\n",
      "Dimensiones de X_test: (280, 48)\n",
      "Dimensiones de y_train: (1120,)\n",
      "Dimensiones de y_test: (280,)\n"
     ]
    }
   ],
   "source": [
    "\n",
    "# Dividir el conjunto de datos\n",
    "\n",
    "# X_res y y_res son los datos ya balanceados\n",
    "X_train, X_test, y_train, y_test = train_test_split(\n",
    "    X_res, y_res, test_size=0.2, random_state=42\n",
    ")\n",
    "\n",
    "\n",
    "print(\"Dimensiones de X_train:\", X_train.shape)\n",
    "print(\"Dimensiones de X_test:\", X_test.shape)\n",
    "print(\"Dimensiones de y_train:\", y_train.shape)\n",
    "print(\"Dimensiones de y_test:\", y_test.shape)"
   ]
  }
 ],
 "metadata": {
  "kernelspec": {
   "display_name": "Python 3",
   "language": "python",
   "name": "python3"
  },
  "language_info": {
   "codemirror_mode": {
    "name": "ipython",
    "version": 3
   },
   "file_extension": ".py",
   "mimetype": "text/x-python",
   "name": "python",
   "nbconvert_exporter": "python",
   "pygments_lexer": "ipython3",
   "version": "3.11.9"
  }
 },
 "nbformat": 4,
 "nbformat_minor": 5
}
